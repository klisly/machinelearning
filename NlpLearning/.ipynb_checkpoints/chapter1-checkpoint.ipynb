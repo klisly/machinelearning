{
 "cells": [
  {
   "cell_type": "code",
   "execution_count": 18,
   "metadata": {
    "collapsed": true
   },
   "outputs": [],
   "source": [
    "%matplotlib inline"
   ]
  },
  {
   "cell_type": "code",
   "execution_count": 91,
   "metadata": {},
   "outputs": [],
   "source": [
    "import nltk\n",
    "from nltk.book import *"
   ]
  },
  {
   "cell_type": "code",
   "execution_count": 3,
   "metadata": {},
   "outputs": [
    {
     "data": {
      "text/plain": [
       "<Text: Moby Dick by Herman Melville 1851>"
      ]
     },
     "execution_count": 3,
     "metadata": {},
     "output_type": "execute_result"
    }
   ],
   "source": [
    "text1"
   ]
  },
  {
   "cell_type": "code",
   "execution_count": 40,
   "metadata": {},
   "outputs": [
    {
     "name": "stdout",
     "output_type": "stream",
     "text": [
      "<class 'nltk.text.Text'>\n",
      "imperial subtly impalpable pitiable curious abundant perilous\n",
      "trustworthy untoward singular lamentable few determined maddens\n",
      "horrible tyrannical lazy mystifying christian exasperate\n",
      "\n",
      "\n",
      "very exceedingly so heartily a great good amazingly as sweet\n",
      "remarkably extremely vast\n",
      "\n",
      "\n",
      "a_pretty is_pretty a_lucky am_glad be_glad\n"
     ]
    },
    {
     "data": {
      "image/png": "[encoded data removed]",
      "text/plain": [
       "<matplotlib.figure.Figure at 0x11c25ed50>"
      ]
     },
     "metadata": {},
     "output_type": "display_data"
    },
    {
     "name": "stdout",
     "output_type": "stream",
     "text": [
      "random words:\n",
      "44764\n",
      "16.0501972033\n",
      "704\n",
      "1.56409686736\n"
     ]
    }
   ],
   "source": [
    "print type(text1)\n",
    "#文本的词汇个数\n",
    "# print len(text1.vocab())\n",
    "#搜索文本\n",
    "# text1.concordance('woods')\n",
    "#词语索引使我们看到词的上下文\n",
    "text1.similar(\"monstrous\")\n",
    "print '\\n'\n",
    "text2.similar(\"monstrous\")\n",
    "print '\\n'\n",
    "#common_contexts允许我们研究两个或两个以上的词共同的上下文\n",
    "text2.common_contexts([\"monstrous\", \"very\"])\n",
    "#离散图显示特定词在文档中出现的次数\n",
    "text4.dispersion_plot([\"citizens\", \"democracy\", \"freedom\", \"duties\", \"America\"])\n",
    "print 'random words:'\n",
    "#产生一些随机文 \n",
    "text3.generate('save')\n",
    "#text3的长度\n",
    "print len(text3)\n",
    "#set(text3)获得 text3 的词汇表\n",
    "#对text3的词汇表进行排序\n",
    "#sorted(set(text3)) \n",
    "#使用Python3的浮点数计算\n",
    "from __future__ import division\n",
    "#text3中每个字词平均被使用的次数\n",
    "print len(text3) / len(set(text3))\n",
    "# 统计稳重某一个词出现的次数\n",
    "print text5.count(\"lol\")\n",
    "#统计lol出现的百分比\n",
    "print 100 * text5.count('lol') / len(text5)"
   ]
  },
  {
   "cell_type": "code",
   "execution_count": 43,
   "metadata": {},
   "outputs": [
    {
     "name": "stdout",
     "output_type": "stream",
     "text": [
      "10.1679153812\n",
      "1.26194179071\n"
     ]
    }
   ],
   "source": [
    "#自定义函数\n",
    "def lexical_diversity(text):  #求解词的平均使用频次\n",
    "    return len(text) / len(set(text))\n",
    "def percentage(count, total): #求解此处先的百分比\n",
    "    return 100 * count / total\n",
    "print lexical_diversity(text9)\n",
    "print percentage(text5.count('a'), len(text5))"
   ]
  },
  {
   "cell_type": "code",
   "execution_count": 50,
   "metadata": {},
   "outputs": [
    {
     "data": {
      "text/plain": [
       "['The',\n",
       " 'family',\n",
       " 'of',\n",
       " 'Dashwood',\n",
       " 'had',\n",
       " 'long',\n",
       " 'been',\n",
       " 'settled',\n",
       " 'in',\n",
       " 'Sussex',\n",
       " '.']"
      ]
     },
     "execution_count": 50,
     "metadata": {},
     "output_type": "execute_result"
    }
   ],
   "source": [
    "#文 是什么?在一个层面上，它是一页纸上的符号序列就像这页纸一样。在另一个层面 上，它是章节的序列，\n",
    "#每一章由小节序列组成，小节由段落序列组成，以此类推。然而，对 于我们而言，我们认为文 不外乎是词和标点符号的序列。\n",
    "sent2"
   ]
  },
  {
   "cell_type": "code",
   "execution_count": 48,
   "metadata": {},
   "outputs": [
    {
     "data": {
      "text/plain": [
       "1.0"
      ]
     },
     "execution_count": 48,
     "metadata": {},
     "output_type": "execute_result"
    }
   ],
   "source": [
    "lexical_diversity(sent2)"
   ]
  },
  {
   "cell_type": "code",
   "execution_count": 54,
   "metadata": {},
   "outputs": [
    {
     "name": "stdout",
     "output_type": "stream",
     "text": [
      "['runoob', 786, 2.23, 'john', 70.2]\n",
      "[123, 'john']\n",
      "runoob\n",
      "70.2\n",
      "['runoob', 786, 2.23]\n",
      "['runoob', 786, 2.23, 'john', 70.2, 'runoob', 786, 2.23, 'john', 70.2]\n",
      "['runoob', 786, 2.23, 'john', 70.2, 123, 'john']\n",
      "5\n",
      "['john']\n",
      "True\n",
      "runoob\n",
      "786\n",
      "2.23\n",
      "john\n",
      "70.2\n",
      "1\n",
      "4\n",
      "0\n",
      "[1, 2, 3, 4]\n",
      "[1, 2, 3, 4, 5]\n",
      "[1, 2, 3, 4, 5, 'runoob', 786, 2.23, 'john', 70.2]\n",
      "1\n",
      "8\n",
      "['hello', 1, 2, 3, 4, 5, 'runoob', 786, 2.23, 'john', 70.2]\n",
      "hello\n",
      "[1, 2, 3, 4, 5, 'runoob', 786, 2.23, 'john', 70.2]\n",
      "[2, 3, 4, 5, 'runoob', 786, 2.23, 'john', 70.2]\n",
      "[70.2, 'john', 2.23, 786, 'runoob', 5, 4, 3, 2]\n",
      "[2, 2.23, 3, 4, 5, 70.2, 786, 'john', 'runoob']\n"
     ]
    }
   ],
   "source": [
    "# 链表基本操作\n",
    "list01 = ['runoob', 786, 2.23, 'john', 70.2]\n",
    "list02 = [123, 'john']\n",
    "\n",
    "print list01\n",
    "print list02\n",
    "\n",
    "# 列表截取\n",
    "\n",
    "print list01[0]\n",
    "print list01[-1]\n",
    "print list01[0:3]\n",
    "\n",
    "# 列表重复\n",
    "\n",
    "print list01 * 2\n",
    "\n",
    "# 列表组合\n",
    "\n",
    "print list01 + list02\n",
    "\n",
    "# 获取列表长度\n",
    "\n",
    "print len(list01)\n",
    "\n",
    "# 删除列表元素\n",
    "\n",
    "del list02[0]\n",
    "print list02\n",
    "\n",
    "# 元素是否存在于列表中\n",
    "\n",
    "print 'john' in list02  # True\n",
    "\n",
    "# 迭代\n",
    "\n",
    "for i in list01:\n",
    "    print i\n",
    "\n",
    "# 比较两个列表的元素\n",
    "\n",
    "print cmp(list01, list02)\n",
    "\n",
    "# 列表最大/最小值\n",
    "\n",
    "print max([0, 1, 2, 3, 4])\n",
    "print min([0, 1])\n",
    "\n",
    "# 将元组转换为列表\n",
    "\n",
    "aTuple = (1,2,3,4)\n",
    "list03 = list(aTuple)\n",
    "print list03\n",
    "\n",
    "# 在列表末尾添加新的元素\n",
    "\n",
    "list03.append(5)\n",
    "print list03\n",
    "\n",
    "# 在列表末尾一次性追加另一个序列中的多个值（用新列表扩展原来的列表）\n",
    "\n",
    "list03.extend(list01)\n",
    "print list03\n",
    "\n",
    "# 统计某个元素在列表中出现的次数\n",
    "\n",
    "print list03.count(1)\n",
    "\n",
    "# 从列表中找出某个值第一个匹配项的索引位置\n",
    "\n",
    "print list03.index('john')\n",
    "\n",
    "# 将对象插入列表\n",
    "\n",
    "list03.insert(0, 'hello')\n",
    "print list03\n",
    "\n",
    "# 移除列表中的一个元素（默认最后一个元素），并且返回该元素的值\n",
    "\n",
    "print list03.pop(0)\n",
    "print list03\n",
    "\n",
    "# 移除列表中某个值的第一个匹配项\n",
    "\n",
    "list03.remove(1)\n",
    "print list03\n",
    "\n",
    "# 反向列表中元素\n",
    "\n",
    "list03.reverse()\n",
    "print list03\n",
    "\n",
    "# 对原列表进行排序\n",
    "\n",
    "list03.sort()\n",
    "print list03"
   ]
  },
  {
   "cell_type": "code",
   "execution_count": 67,
   "metadata": {},
   "outputs": [
    {
     "name": "stdout",
     "output_type": "stream",
     "text": [
      "['25', 'SEXY', 'MALE', ',', 'seeks', 'attrac', 'older', 'single', 'lady', ',', 'for', 'discreet', 'encounters', '.']\n",
      "14\n",
      "['.']\n",
      "['MALE', ',', 'seeks']\n",
      "25 SEXY MALE , seeks attrac older single lady , for discreet encounters .\n"
     ]
    }
   ],
   "source": [
    "print sent8\n",
    "print len(sent8)\n",
    "print sent8[13:14]\n",
    "print sent8[2:5]\n",
    "print ' '.join(sent8)"
   ]
  },
  {
   "cell_type": "code",
   "execution_count": 93,
   "metadata": {},
   "outputs": [
    {
     "name": "stdout",
     "output_type": "stream",
     "text": [
      "[u'Mortimer', u'foul', u'Heights', u'four', u'spiders', u'railing', u'centimeter', u'Until', u'payoff', u'Germany-based', u'Foundation', u'granting', u'Manufacturers', u'electricity', u'Ronald', u'153.3', u'refunding', u'Western', u'lore', u'hormone', u'Frankly', u'battles', u'45.3', u'45.2', u'regional', u'Salomon', u'appropriation', u'cavernous', u'yellow', u'Torrington', u'960', u'stabbed', u'bringing', u'Policies', u'uttering', u'scholar', u'auditor', u'Nasdaq', u'succession', u'combine', u'Paul', u'straight', u'ornamental', u'infringed', u'tired', u'Toledo', u'Off-Track', u'270', u'consists', u'second']\n",
      "1\n",
      "1\n"
     ]
    },
    {
     "data": {
      "image/png": "[encoded data removed]",
      "text/plain": [
       "<matplotlib.figure.Figure at 0x11da9cad0>"
      ]
     },
     "metadata": {},
     "output_type": "display_data"
    },
    {
     "name": "stdout",
     "output_type": "stream",
     "text": [
      "[u'hermaphroditical', u'subterraneousness', u'uninterpenetratingly', u'irresistibleness', u'responsibilities', u'comprehensiveness', u'uncompromisedness', u'superstitiousness', u'uncomfortableness', u'supernaturalness', u'circumnavigating', u'cannibalistically', u'circumnavigations', u'indispensableness', u'preternaturalness', u'apprehensiveness', u'CIRCUMNAVIGATION', u'simultaneousness', u'undiscriminating', u'characteristically', u'Physiognomically', u'physiognomically', u'circumnavigation', u'indiscriminately']\n",
      "[u'CIRCUMNAVIGATION', u'Physiognomically', u'apprehensiveness', u'cannibalistically', u'characteristically', u'circumnavigating', u'circumnavigation', u'circumnavigations', u'comprehensiveness', u'hermaphroditical', u'indiscriminately', u'indispensableness', u'irresistibleness', u'physiognomically', u'preternaturalness', u'responsibilities', u'simultaneousness', u'subterraneousness', u'supernaturalness', u'superstitiousness', u'uncomfortableness', u'uncompromisedness', u'undiscriminating', u'uninterpenetratingly']\n",
      "[u'innocent', u'somebody', u'sometimes', u'religion', u'anything', u'whispers', u'together', u'yourself', u'thinking', u'actually', u'probably', u'everybody', u'confused', u'seriously', u'daughter', u'afternoon', u'interesting', u'profiles', u'different', u'tomorrow', u'romantic', u'supposed', u'yesterday', u'listening', u'chatting', u'everything', u'happened', u'horrible', u'interested', u'questions', u'question', u'something', u'conversation', u'remember', u'watching']\n",
      "[u'actually', u'afternoon', u'anything', u'chatting', u'confused', u'conversation', u'daughter', u'different', u'everybody', u'everything', u'happened', u'horrible', u'innocent', u'interested', u'interesting', u'listening', u'probably', u'profiles', u'question', u'questions', u'religion', u'remember', u'romantic', u'seriously', u'somebody', u'something', u'sometimes', u'supposed', u'thinking', u'together', u'tomorrow', u'watching', u'whispers', u'yesterday', u'yourself']\n",
      "<generator object bigrams at 0x11dcc54b0>\n"
     ]
    }
   ],
   "source": [
    "#1.3 简单的统计\n",
    "from nltk.tokenize import word_tokenize\n",
    "from nltk.probability import FreqDist\n",
    "sent = 'This is an example sentence'\n",
    "fdist = FreqDist()\n",
    "# for word in word_tokenize(sent):\n",
    "#     fdist[word.lower()] += 1\n",
    "fdist = FreqDist(word.lower() for word in word_tokenize(sent))\n",
    "fdist = FreqDist(text7)\n",
    "#频率分布中的key,即文章的词汇\n",
    "voc = fdist.keys()\n",
    "print voc[:50] \n",
    "print fdist['Mortimer']\n",
    "print fdist['consists']\n",
    "#绘制词汇累频率图\n",
    "fdist.plot(50, cumulative=True)\n",
    "#细粒度的选择词\n",
    "vs = set(text1)\n",
    "long_words = [v for v in vs if len(v) > 15]\n",
    "print long_words\n",
    "print sorted(long_words)\n",
    "\n",
    "fdist = FreqDist(text5)\n",
    "long_words = [v for v in vs if len(v) > 7 and fdist[v] > 3]\n",
    "\n",
    "print long_words\n",
    "print sorted(long_words)"
   ]
  },
  {
   "cell_type": "code",
   "execution_count": 96,
   "metadata": {},
   "outputs": [
    {
     "name": "stdout",
     "output_type": "stream",
     "text": [
      "('more', 'is')\n",
      "('is', 'said')\n",
      "('said', 'than')\n",
      "('than', 'done')\n",
      "('more', 'is', 'said')\n",
      "('is', 'said', 'than')\n",
      "('said', 'than', 'done')\n"
     ]
    }
   ],
   "source": [
    "#词搭配\n",
    "nds = nltk.bigrams(['more', 'is', 'said', 'than', 'done'])#二元词组\n",
    "for nd in nds:\n",
    "    print nd\n",
    "nds = nltk.trigrams(['more', 'is', 'said', 'than', 'done'])#三元词组\n",
    "for nd in nds:\n",
    "    print nd"
   ]
  },
  {
   "cell_type": "code",
   "execution_count": 97,
   "metadata": {},
   "outputs": [
    {
     "name": "stdout",
     "output_type": "stream",
     "text": [
      "United States; fellow citizens; four years; years ago; Federal\n",
      "Government; General Government; American people; Vice President; Old\n",
      "World; Almighty God; Fellow citizens; Chief Magistrate; Chief Justice;\n",
      "God bless; every citizen; Indian tribes; public debt; one another;\n",
      "foreign nations; political parties\n"
     ]
    }
   ],
   "source": [
    "text4.collocations()"
   ]
  },
  {
   "cell_type": "code",
   "execution_count": 105,
   "metadata": {},
   "outputs": [
    {
     "data": {
      "image/png": "[encoded data removed]",
      "text/plain": [
       "<matplotlib.figure.Figure at 0x12948dd50>"
      ]
     },
     "metadata": {},
     "output_type": "display_data"
    }
   ],
   "source": [
    "# fdist.items()\n",
    "'''\n",
    "    fdist = FreqDist(samples) 创建包 给定样 的频率分布\n",
    "    fdist.inc (sample) 增加样 \n",
    "    fdist['monstrous'] 计数给定样 出现的次数\n",
    "    fdist.freq('monstrous') 给定样 的频率\n",
    "    fdist.N() 样 总数\n",
    "    fdist.keys() 以频率递减顺序排序的样 链表\n",
    "    for sample in fdist: 以频率递减的顺序遍历样 \n",
    "    fdist.max() 数值最大的样 \n",
    "    fdist.tabulate() 绘制频率分布表\n",
    "    fdist.plot() 绘制频率分布图\n",
    "    fdist.plot(c umula tive =True) 绘制累积频率分布图\n",
    "    fdist1 < fdist2 测试样 在 fdist1 中出现的频率是否小于 fdist2\n",
    "    \n",
    "    常用字符传比较\n",
    "    s.startswith(t) 测试 s 是否以 t 开头\n",
    "    s.endswith(t) 测试 s 是否以 t 结尾\n",
    "    t in s 测试 s 是否包  t\n",
    "    s.islower() 测试 s 中所有字符是否都是小写字母\n",
    "    s.isupper() 测试 s 中所有字符是否都是大写字母\n",
    "    s.isalpha() 测试 s 中所有字符是否都是字母\n",
    "    s.isalnum() 测试 s 中所有字符是否都是字母或数字\n",
    "    s.isdigit() 测试 s 中所有字符是否都是数字\n",
    "    s.istitle() 测试 s 是否首字母大写(s 中所有的词都首字母大写)\n",
    "'''\n",
    "fdist1 = FreqDist(text1)\n",
    "# fdist2 = FreqDist(text2)\n",
    "fdist1.plot(50)"
   ]
  },
  {
   "cell_type": "code",
   "execution_count": null,
   "metadata": {
    "collapsed": true
   },
   "outputs": [],
   "source": []
  }
 ],
 "metadata": {
  "kernelspec": {
   "display_name": "Python 2",
   "language": "python",
   "name": "python2"
  },
  "language_info": {
   "codemirror_mode": {
    "name": "ipython",
    "version": 2
   },
   "file_extension": ".py",
   "mimetype": "text/x-python",
   "name": "python",
   "nbconvert_exporter": "python",
   "pygments_lexer": "ipython2",
   "version": "2.7.10"
  }
 },
 "nbformat": 4,
 "nbformat_minor": 2
}
