{
 "cells": [
  {
   "cell_type": "code",
   "execution_count": 1,
   "metadata": {
    "collapsed": true
   },
   "outputs": [],
   "source": [
    "#支持向量机 根据训练样本的分布搜索所有可能分类器中最佳的那个\n",
    "from sklearn.datasets import load_iris\n",
    "digits = load_iris()"
   ]
  },
  {
   "cell_type": "code",
   "execution_count": 2,
   "metadata": {},
   "outputs": [
    {
     "data": {
      "text/plain": [
       "(150, 4)"
      ]
     },
     "execution_count": 2,
     "metadata": {},
     "output_type": "execute_result"
    }
   ],
   "source": [
    "digits.data.shape"
   ]
  },
  {
   "cell_type": "code",
   "execution_count": 3,
   "metadata": {},
   "outputs": [
    {
     "name": "stderr",
     "output_type": "stream",
     "text": [
      "/Users/wizardholy/soft/dunas/lib/python2.7/site-packages/sklearn/cross_validation.py:41: DeprecationWarning: This module was deprecated in version 0.18 in favor of the model_selection module into which all the refactored classes and functions are moved. Also note that the interface of the new CV iterators are different from that of this module. This module will be removed in 0.20.\n",
      "  \"This module will be removed in 0.20.\", DeprecationWarning)\n"
     ]
    }
   ],
   "source": [
    "#切分训练集和测试集\n",
    "from sklearn.cross_validation import train_test_split"
   ]
  },
  {
   "cell_type": "code",
   "execution_count": 4,
   "metadata": {
    "collapsed": true
   },
   "outputs": [],
   "source": [
    "X_train,Xtest,Y_Train,Y_test=train_test_split(digits.data,\n",
    "                                             digits.target,\n",
    "                                            test_size=0.25,\n",
    "                                             random_state=33)"
   ]
  },
  {
   "cell_type": "code",
   "execution_count": 5,
   "metadata": {
    "scrolled": false
   },
   "outputs": [
    {
     "data": {
      "text/plain": [
       "(112,)"
      ]
     },
     "execution_count": 5,
     "metadata": {},
     "output_type": "execute_result"
    }
   ],
   "source": [
    "Y_Train.shape"
   ]
  },
  {
   "cell_type": "code",
   "execution_count": 6,
   "metadata": {},
   "outputs": [
    {
     "data": {
      "text/plain": [
       "(38,)"
      ]
     },
     "execution_count": 6,
     "metadata": {},
     "output_type": "execute_result"
    }
   ],
   "source": [
    "Y_test.shape"
   ]
  },
  {
   "cell_type": "code",
   "execution_count": 19,
   "metadata": {
    "collapsed": true
   },
   "outputs": [],
   "source": [
    "#导入标准化模块, 标准化数据\n",
    "from sklearn.preprocessing import StandardScaler\n",
    "from sklearn.neighbors import KNeighborsRegressor #导入K近邻回归器"
   ]
  },
  {
   "cell_type": "code",
   "execution_count": 8,
   "metadata": {
    "collapsed": true
   },
   "outputs": [],
   "source": [
    "ss = StandardScaler()"
   ]
  },
  {
   "cell_type": "code",
   "execution_count": 9,
   "metadata": {
    "collapsed": true
   },
   "outputs": [],
   "source": [
    "X_train = ss.fit_transform(X_train)"
   ]
  },
  {
   "cell_type": "code",
   "execution_count": 10,
   "metadata": {
    "collapsed": true
   },
   "outputs": [],
   "source": [
    "Xtest = ss.transform(Xtest)"
   ]
  },
  {
   "cell_type": "code",
   "execution_count": 20,
   "metadata": {},
   "outputs": [],
   "source": [
    "uni_knr = KNeighborsRegressor(weights = 'uniform') #使用平均回归\n",
    "uni_knr.fit(X_train, Y_Train)\n",
    "uni_knr_y_predic = uni_knr.predict(Xtest)"
   ]
  },
  {
   "cell_type": "code",
   "execution_count": 21,
   "metadata": {
    "collapsed": true
   },
   "outputs": [],
   "source": [
    "dis_knr = KNeighborsRegressor(weights = 'distance') #使用距离加权回归\n",
    "dis_knr.fit(X_train, Y_Train)\n",
    "dis_knr_y_predic = dis_knr.predict(Xtest)"
   ]
  },
  {
   "cell_type": "code",
   "execution_count": 22,
   "metadata": {
    "collapsed": true
   },
   "outputs": [],
   "source": [
    "from sklearn.metrics import r2_score,mean_absolute_error,mean_squared_error"
   ]
  },
  {
   "cell_type": "code",
   "execution_count": 23,
   "metadata": {},
   "outputs": [
    {
     "name": "stdout",
     "output_type": "stream",
     "text": [
      "The Accuracy of uniform-weight of KNeighborsRegressor is 0.892508287293\n",
      "The Value of R-squared of uniform-weight of KNeighborsRegressor is 0.892508287293\n",
      "The Value of mean_absolute_error of uniform-weight of KNeighborsRegressor is 0.126315789474\n",
      "The Value of mean_squared_error of uniform-weight of KNeighborsRegressor is 0.0673684210526\n"
     ]
    }
   ],
   "source": [
    "print 'The Accuracy of uniform-weight of KNeighborsRegressor is',uni_knr.score(Xtest, Y_test)\n",
    "print 'The Value of R-squared of uniform-weight of KNeighborsRegressor is',r2_score(Y_test, uni_knr_y_predic)\n",
    "print 'The Value of mean_absolute_error of uniform-weight of KNeighborsRegressor is',mean_absolute_error(Y_test, uni_knr_y_predic)\n",
    "print 'The Value of mean_squared_error of uniform-weight of KNeighborsRegressor is',mean_squared_error(Y_test, uni_knr_y_predic)"
   ]
  },
  {
   "cell_type": "code",
   "execution_count": 24,
   "metadata": {},
   "outputs": [
    {
     "name": "stdout",
     "output_type": "stream",
     "text": [
      "The Accuracy of distance-weight of KNeighborsRegressor is 0.912150790491\n",
      "The Value of R-squared of distance-weight of KNeighborsRegressor is 0.912150790491\n",
      "The Value of mean_absolute_error of distance-weight of KNeighborsRegressor is 0.104753736204\n",
      "The Value of mean_squared_error of distance-weight of KNeighborsRegressor is 0.0550578494497\n"
     ]
    }
   ],
   "source": [
    "print 'The Accuracy of distance-weight of KNeighborsRegressor is',dis_knr.score(Xtest, Y_test)\n",
    "print 'The Value of R-squared of distance-weight of KNeighborsRegressor is',r2_score(Y_test, dis_knr_y_predic)\n",
    "print 'The Value of mean_absolute_error of distance-weight of KNeighborsRegressor is',mean_absolute_error(Y_test, dis_knr_y_predic)\n",
    "print 'The Value of mean_squared_error of distance-weight of KNeighborsRegressor is',mean_squared_error(Y_test, dis_knr_y_predic)"
   ]
  }
 ],
 "metadata": {
  "kernelspec": {
   "display_name": "Python 2",
   "language": "python",
   "name": "python2"
  },
  "language_info": {
   "codemirror_mode": {
    "name": "ipython",
    "version": 2
   },
   "file_extension": ".py",
   "mimetype": "text/x-python",
   "name": "python",
   "nbconvert_exporter": "python",
   "pygments_lexer": "ipython2",
   "version": "2.7.10"
  }
 },
 "nbformat": 4,
 "nbformat_minor": 2
}
