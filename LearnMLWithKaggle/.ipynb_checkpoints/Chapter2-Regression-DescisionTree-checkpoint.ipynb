{
 "cells": [
  {
   "cell_type": "code",
   "execution_count": 1,
   "metadata": {
    "collapsed": true
   },
   "outputs": [],
   "source": [
    "#支持向量机 根据训练样本的分布搜索所有可能分类器中最佳的那个\n",
    "from sklearn.datasets import load_iris\n",
    "digits = load_iris()"
   ]
  },
  {
   "cell_type": "code",
   "execution_count": 2,
   "metadata": {},
   "outputs": [
    {
     "data": {
      "text/plain": [
       "(150, 4)"
      ]
     },
     "execution_count": 2,
     "metadata": {},
     "output_type": "execute_result"
    }
   ],
   "source": [
    "digits.data.shape"
   ]
  },
  {
   "cell_type": "code",
   "execution_count": 3,
   "metadata": {},
   "outputs": [
    {
     "name": "stderr",
     "output_type": "stream",
     "text": [
      "/Users/wizardholy/soft/dunas/lib/python2.7/site-packages/sklearn/cross_validation.py:41: DeprecationWarning: This module was deprecated in version 0.18 in favor of the model_selection module into which all the refactored classes and functions are moved. Also note that the interface of the new CV iterators are different from that of this module. This module will be removed in 0.20.\n",
      "  \"This module will be removed in 0.20.\", DeprecationWarning)\n"
     ]
    }
   ],
   "source": [
    "#切分训练集和测试集\n",
    "from sklearn.cross_validation import train_test_split"
   ]
  },
  {
   "cell_type": "code",
   "execution_count": 4,
   "metadata": {
    "collapsed": true
   },
   "outputs": [],
   "source": [
    "X_train,Xtest,Y_Train,Y_test=train_test_split(digits.data,\n",
    "                                             digits.target,\n",
    "                                            test_size=0.25,\n",
    "                                             random_state=33)"
   ]
  },
  {
   "cell_type": "code",
   "execution_count": 5,
   "metadata": {
    "scrolled": false
   },
   "outputs": [
    {
     "data": {
      "text/plain": [
       "(112,)"
      ]
     },
     "execution_count": 5,
     "metadata": {},
     "output_type": "execute_result"
    }
   ],
   "source": [
    "Y_Train.shape"
   ]
  },
  {
   "cell_type": "code",
   "execution_count": 6,
   "metadata": {},
   "outputs": [
    {
     "data": {
      "text/plain": [
       "(38,)"
      ]
     },
     "execution_count": 6,
     "metadata": {},
     "output_type": "execute_result"
    }
   ],
   "source": [
    "Y_test.shape"
   ]
  },
  {
   "cell_type": "code",
   "execution_count": 7,
   "metadata": {
    "collapsed": true
   },
   "outputs": [],
   "source": [
    "#导入标准化模块, 标准化数据\n",
    "from sklearn.preprocessing import StandardScaler\n",
    "from sklearn.svm import SVR  #导入支持向量积回归模型"
   ]
  },
  {
   "cell_type": "code",
   "execution_count": 8,
   "metadata": {
    "collapsed": true
   },
   "outputs": [],
   "source": [
    "ss = StandardScaler()"
   ]
  },
  {
   "cell_type": "code",
   "execution_count": 9,
   "metadata": {
    "collapsed": true
   },
   "outputs": [],
   "source": [
    "X_train = ss.fit_transform(X_train)"
   ]
  },
  {
   "cell_type": "code",
   "execution_count": 10,
   "metadata": {
    "collapsed": true
   },
   "outputs": [],
   "source": [
    "Xtest = ss.transform(Xtest)"
   ]
  },
  {
   "cell_type": "code",
   "execution_count": 11,
   "metadata": {
    "collapsed": true
   },
   "outputs": [],
   "source": [
    "lsvr = SVR(kernel = 'linear') #使用线性核函数配置\n",
    "lsvr.fit(X_train, Y_Train)\n",
    "lsvr_y_predic = lsvr.predict(Xtest)"
   ]
  },
  {
   "cell_type": "code",
   "execution_count": 12,
   "metadata": {
    "collapsed": true
   },
   "outputs": [],
   "source": [
    "plsvr = SVR(kernel = 'poly') #使用多项式核函数配置\n",
    "plsvr.fit(X_train, Y_Train)\n",
    "plsvr_y_predic = plsvr.predict(Xtest)"
   ]
  },
  {
   "cell_type": "code",
   "execution_count": 13,
   "metadata": {
    "collapsed": true
   },
   "outputs": [],
   "source": [
    "rbfsvr = SVR(kernel = 'rbf') #使用径向基核函数配置\n",
    "rbfsvr.fit(X_train, Y_Train)\n",
    "rbfsvr_y_predic = rbfsvr.predict(Xtest)"
   ]
  },
  {
   "cell_type": "code",
   "execution_count": 14,
   "metadata": {
    "collapsed": true
   },
   "outputs": [],
   "source": [
    "from sklearn.metrics import r2_score,mean_absolute_error,mean_squared_error"
   ]
  },
  {
   "cell_type": "code",
   "execution_count": 15,
   "metadata": {},
   "outputs": [
    {
     "name": "stdout",
     "output_type": "stream",
     "text": [
      "The Accuracy of linear SVR is 0.899791215427\n",
      "The Value of R-squared of linear SVR is 0.899791215427\n",
      "The Value of mean_absolute_error of linear SVR is 0.185934519571\n",
      "The Value of mean_squared_error of linear SVR is 0.0628039820215\n"
     ]
    }
   ],
   "source": [
    "print 'The Accuracy of linear SVR is',lsvr.score(Xtest, Y_test)\n",
    "print 'The Value of R-squared of linear SVR is',r2_score(Y_test, lsvr_y_predic)\n",
    "print 'The Value of mean_absolute_error of linear SVR is',mean_absolute_error(Y_test, lsvr_y_predic)\n",
    "print 'The Value of mean_squared_error of linear SVR is',mean_squared_error(Y_test, lsvr_y_predic)"
   ]
  },
  {
   "cell_type": "code",
   "execution_count": 16,
   "metadata": {},
   "outputs": [
    {
     "name": "stdout",
     "output_type": "stream",
     "text": [
      "The Accuracy of poly SVR is 0.775192120891\n",
      "The Value of R-squared of poly SVR is 0.775192120891\n",
      "The Value of mean_absolute_error of poly SVR is 0.260578994473\n",
      "The Value of  mean_squared_error of poly SVR is 0.14089413476\n"
     ]
    }
   ],
   "source": [
    "print 'The Accuracy of poly SVR is',plsvr.score(Xtest, Y_test)\n",
    "print 'The Value of R-squared of poly SVR is',r2_score(Y_test, plsvr_y_predic)\n",
    "print 'The Value of mean_absolute_error of poly SVR is',mean_absolute_error(Y_test, plsvr_y_predic)\n",
    "print 'The Value of  mean_squared_error of poly SVR is',mean_squared_error(Y_test, plsvr_y_predic)"
   ]
  },
  {
   "cell_type": "code",
   "execution_count": 17,
   "metadata": {},
   "outputs": [
    {
     "name": "stdout",
     "output_type": "stream",
     "text": [
      "The Accuracy of rbf SVR is 0.928893307557\n",
      "The Value of R-squared of rbf SVR is 0.928893307557\n",
      "The Value of mean_absolute_error of rbf SVR is 0.148929627444\n",
      "The Value of  mean_squared_error of rbf SVR is 0.0445647899312\n"
     ]
    }
   ],
   "source": [
    "print 'The Accuracy of rbf SVR is',rbfsvr.score(Xtest, Y_test)\n",
    "print 'The Value of R-squared of rbf SVR is',r2_score(Y_test, rbfsvr_y_predic)\n",
    "print 'The Value of mean_absolute_error of rbf SVR is',mean_absolute_error(Y_test, rbfsvr_y_predic)\n",
    "print 'The Value of  mean_squared_error of rbf SVR is',mean_squared_error(Y_test, rbfsvr_y_predic)"
   ]
  }
 ],
 "metadata": {
  "kernelspec": {
   "display_name": "Python 2",
   "language": "python",
   "name": "python2"
  },
  "language_info": {
   "codemirror_mode": {
    "name": "ipython",
    "version": 2
   },
   "file_extension": ".py",
   "mimetype": "text/x-python",
   "name": "python",
   "nbconvert_exporter": "python",
   "pygments_lexer": "ipython2",
   "version": "2.7.10"
  }
 },
 "nbformat": 4,
 "nbformat_minor": 2
}
