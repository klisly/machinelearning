{
 "cells": [
  {
   "cell_type": "code",
   "execution_count": 1,
   "metadata": {
    "collapsed": true
   },
   "outputs": [],
   "source": [
    "#支持向量机 根据训练样本的分布搜索所有可能分类器中最佳的那个\n",
    "from sklearn.datasets import load_iris\n",
    "digits = load_iris()"
   ]
  },
  {
   "cell_type": "code",
   "execution_count": 2,
   "metadata": {},
   "outputs": [
    {
     "data": {
      "text/plain": [
       "(150, 4)"
      ]
     },
     "execution_count": 2,
     "metadata": {},
     "output_type": "execute_result"
    }
   ],
   "source": [
    "digits.data.shape"
   ]
  },
  {
   "cell_type": "code",
   "execution_count": 3,
   "metadata": {},
   "outputs": [
    {
     "name": "stderr",
     "output_type": "stream",
     "text": [
      "/Users/wizardholy/soft/dunas/lib/python2.7/site-packages/sklearn/cross_validation.py:41: DeprecationWarning: This module was deprecated in version 0.18 in favor of the model_selection module into which all the refactored classes and functions are moved. Also note that the interface of the new CV iterators are different from that of this module. This module will be removed in 0.20.\n",
      "  \"This module will be removed in 0.20.\", DeprecationWarning)\n"
     ]
    }
   ],
   "source": [
    "#切分训练集和测试集\n",
    "from sklearn.cross_validation import train_test_split"
   ]
  },
  {
   "cell_type": "code",
   "execution_count": 4,
   "metadata": {
    "collapsed": true
   },
   "outputs": [],
   "source": [
    "X_train,Xtest,Y_Train,Y_test=train_test_split(digits.data,\n",
    "                                             digits.target,\n",
    "                                            test_size=0.25,\n",
    "                                             random_state=33)"
   ]
  },
  {
   "cell_type": "code",
   "execution_count": 5,
   "metadata": {
    "scrolled": false
   },
   "outputs": [
    {
     "data": {
      "text/plain": [
       "(112,)"
      ]
     },
     "execution_count": 5,
     "metadata": {},
     "output_type": "execute_result"
    }
   ],
   "source": [
    "Y_Train.shape"
   ]
  },
  {
   "cell_type": "code",
   "execution_count": 18,
   "metadata": {},
   "outputs": [
    {
     "data": {
      "text/plain": [
       "(38,)"
      ]
     },
     "execution_count": 18,
     "metadata": {},
     "output_type": "execute_result"
    }
   ],
   "source": [
    "Y_test.shape"
   ]
  },
  {
   "cell_type": "code",
   "execution_count": 25,
   "metadata": {},
   "outputs": [],
   "source": [
    "#导入标准化模块, 标准化数据\n",
    "from sklearn.preprocessing import StandardScaler\n",
    "from sklearn.ensemble import RandomForestRegressor,ExtraTreesRegressor,GradientBoostingRegressor"
   ]
  },
  {
   "cell_type": "code",
   "execution_count": 21,
   "metadata": {
    "collapsed": true
   },
   "outputs": [],
   "source": [
    "ss = StandardScaler()"
   ]
  },
  {
   "cell_type": "code",
   "execution_count": 22,
   "metadata": {
    "collapsed": true
   },
   "outputs": [],
   "source": [
    "X_train = ss.fit_transform(X_train)"
   ]
  },
  {
   "cell_type": "code",
   "execution_count": 23,
   "metadata": {
    "collapsed": true
   },
   "outputs": [],
   "source": [
    "Xtest = ss.transform(Xtest)"
   ]
  },
  {
   "cell_type": "code",
   "execution_count": 24,
   "metadata": {
    "collapsed": true
   },
   "outputs": [],
   "source": [
    "rfr = RandomForestRegressor()\n",
    "rfr.fit(X_train, Y_Train)\n",
    "rfr_y_predic = rfr.predict(Xtest)"
   ]
  },
  {
   "cell_type": "code",
   "execution_count": 26,
   "metadata": {
    "collapsed": true
   },
   "outputs": [],
   "source": [
    "etr = ExtraTreesRegressor()\n",
    "etr.fit(X_train, Y_Train)\n",
    "etr_y_predic = etr.predict(Xtest)"
   ]
  },
  {
   "cell_type": "code",
   "execution_count": 27,
   "metadata": {
    "collapsed": true
   },
   "outputs": [],
   "source": [
    "gbr = GradientBoostingRegressor()\n",
    "gbr.fit(X_train, Y_Train)\n",
    "gbr_y_predic = gbr.predict(Xtest)"
   ]
  },
  {
   "cell_type": "code",
   "execution_count": 28,
   "metadata": {
    "collapsed": true
   },
   "outputs": [],
   "source": [
    "from sklearn.metrics import r2_score,mean_absolute_error,mean_squared_error"
   ]
  },
  {
   "cell_type": "code",
   "execution_count": 29,
   "metadata": {},
   "outputs": [
    {
     "name": "stdout",
     "output_type": "stream",
     "text": [
      "The Accuracy of RandomForestRegressor is 0.906364640884\n",
      "The Value of R-squared of RandomForestRegressor is 0.906364640884\n",
      "The Value of mean_absolute_error of RandomForestRegressor is 0.0815789473684\n",
      "The Value of mean_squared_error of RandomForestRegressor is 0.0586842105263\n"
     ]
    }
   ],
   "source": [
    "print 'The Accuracy of RandomForestRegressor is',rfr.score(Xtest, Y_test)\n",
    "print 'The Value of R-squared of RandomForestRegressor is',r2_score(Y_test, rfr_y_predic)\n",
    "print 'The Value of mean_absolute_error of RandomForestRegressor is',mean_absolute_error(Y_test, rfr_y_predic)\n",
    "print 'The Value of mean_squared_error of RandomForestRegressor is',mean_squared_error(Y_test, rfr_y_predic)"
   ]
  },
  {
   "cell_type": "code",
   "execution_count": 30,
   "metadata": {},
   "outputs": [
    {
     "name": "stdout",
     "output_type": "stream",
     "text": [
      "The Accuracy of ExtraTreesRegressor is 0.91182320442\n",
      "The Value of R-squared of ExtraTreesRegressor is 0.91182320442\n",
      "The Value of mean_absolute_error of ExtraTreesRegressor is 0.1\n",
      "The Value of  mean_squared_error of ExtraTreesRegressor is 0.0552631578947\n"
     ]
    }
   ],
   "source": [
    "print 'The Accuracy of ExtraTreesRegressor is',etr.score(Xtest, Y_test)\n",
    "print 'The Value of R-squared of ExtraTreesRegressor is',r2_score(Y_test, etr_y_predic)\n",
    "print 'The Value of mean_absolute_error of ExtraTreesRegressor is',mean_absolute_error(Y_test, etr_y_predic)\n",
    "print 'The Value of  mean_squared_error of ExtraTreesRegressor is',mean_squared_error(Y_test, etr_y_predic)"
   ]
  },
  {
   "cell_type": "code",
   "execution_count": 31,
   "metadata": {},
   "outputs": [
    {
     "name": "stdout",
     "output_type": "stream",
     "text": [
      "The Accuracy of GradientBoostingRegressor is 0.866909244075\n",
      "The Value of R-squared of GradientBoostingRegressor is 0.866909244075\n",
      "The Value of mean_absolute_error of GradientBoostingRegressor is 0.0952183726364\n",
      "The Value of  mean_squared_error of GradientBoostingRegressor is 0.0834121427367\n"
     ]
    }
   ],
   "source": [
    "print 'The Accuracy of GradientBoostingRegressor is',gbr.score(Xtest, Y_test)\n",
    "print 'The Value of R-squared of GradientBoostingRegressor is',r2_score(Y_test, gbr_y_predic)\n",
    "print 'The Value of mean_absolute_error of GradientBoostingRegressor is',mean_absolute_error(Y_test, gbr_y_predic)\n",
    "print 'The Value of  mean_squared_error of GradientBoostingRegressor is',mean_squared_error(Y_test, gbr_y_predic)"
   ]
  },
  {
   "cell_type": "code",
   "execution_count": null,
   "metadata": {
    "collapsed": true
   },
   "outputs": [],
   "source": []
  }
 ],
 "metadata": {
  "kernelspec": {
   "display_name": "Python 2",
   "language": "python",
   "name": "python2"
  },
  "language_info": {
   "codemirror_mode": {
    "name": "ipython",
    "version": 2
   },
   "file_extension": ".py",
   "mimetype": "text/x-python",
   "name": "python",
   "nbconvert_exporter": "python",
   "pygments_lexer": "ipython2",
   "version": "2.7.10"
  }
 },
 "nbformat": 4,
 "nbformat_minor": 2
}
